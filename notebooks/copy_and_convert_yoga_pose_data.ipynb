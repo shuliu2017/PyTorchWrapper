{
  "cells": [
    {
      "cell_type": "markdown",
      "source": [
        "# Dataset\n",
        "\n",
        "https://www.kaggle.com/datasets/shrutisaxena/yoga-pose-image-classification-dataset"
      ],
      "metadata": {
        "id": "w-Lzk4Iv70c_"
      }
    },
    {
      "cell_type": "code",
      "execution_count": 11,
      "metadata": {
        "colab": {
          "base_uri": "https://localhost:8080/"
        },
        "id": "N9j_GTKz1I8T",
        "outputId": "22c1e011-2321-487d-fb1b-4d0d7ca1bb66"
      },
      "outputs": [
        {
          "output_type": "stream",
          "name": "stdout",
          "text": [
            "Drive already mounted at /content/drive; to attempt to forcibly remount, call drive.mount(\"/content/drive\", force_remount=True).\n"
          ]
        }
      ],
      "source": [
        "from google.colab import drive\n",
        "drive.mount('/content/drive')"
      ]
    },
    {
      "cell_type": "code",
      "source": [
        "import os\n",
        "import shutil\n",
        "from sklearn.model_selection import train_test_split\n",
        "from tqdm import tqdm\n",
        "from PIL import Image\n",
        "\n",
        "\n",
        "def is_image_file(filename):\n",
        "    return filename.lower().endswith(('.png', '.jpg', '.jpeg', '.bmp', '.gif', '.tiff'))\n",
        "\n",
        "# Function to copy and convert files\n",
        "def copy_and_convert_files(indices, psedo_labels, images, classes, destination):\n",
        "    for idx in tqdm(indices):\n",
        "        img_path = images[idx]\n",
        "        class_name = classes[psedo_labels[idx]]\n",
        "        dest_dir = os.path.join(destination, class_name)\n",
        "        png_img_path = os.path.join(dest_dir, os.path.splitext(os.path.basename(img_path))[0] + '.png')\n",
        "\n",
        "        with Image.open(img_path) as img:\n",
        "            converted_img = img.convert('RGBA')\n",
        "            converted_img.save(png_img_path, 'PNG')\n",
        "\n",
        "def split_train_and_test(dataset_path, train_path, test_path, test_size=0.2, random_seed=0):\n",
        "\n",
        "    classes = os.listdir(dataset_path)\n",
        "\n",
        "    os.makedirs(train_path, exist_ok=True)\n",
        "    os.makedirs(test_path, exist_ok=True)\n",
        "\n",
        "    for class_name in classes:\n",
        "        os.makedirs(os.path.join(train_path, class_name), exist_ok=True)\n",
        "        os.makedirs(os.path.join(test_path, class_name), exist_ok=True)\n",
        "\n",
        "    images = []\n",
        "    psedo_labels = []\n",
        "\n",
        "    for class_idx, class_name in enumerate(classes):\n",
        "        class_dir = os.path.join(dataset_path, class_name)\n",
        "        for img_name in os.listdir(class_dir):\n",
        "            if is_image_file(img_name):\n",
        "                images.append(os.path.join(class_dir, img_name))\n",
        "                psedo_labels.append(class_idx)\n",
        "\n",
        "    train_idx, test_idx = train_test_split(range(len(images)), test_size=test_size, stratify=psedo_labels, random_state=random_seed)\n",
        "    copy_and_convert_files(train_idx, psedo_labels, images, classes, train_path)\n",
        "    copy_and_convert_files(test_idx, psedo_labels, images, classes, test_path)"
      ],
      "metadata": {
        "id": "skBGGm8bGC1X"
      },
      "execution_count": 4,
      "outputs": []
    },
    {
      "cell_type": "markdown",
      "source": [
        "# Split the dataset to a train set and a test set"
      ],
      "metadata": {
        "id": "DlH4QVzd7FlE"
      }
    },
    {
      "cell_type": "code",
      "source": [
        "split_train_and_test(dataset_path='/content/drive/My Drive/dataset/yoga_pose/original',\n",
        "                     train_path='/content/drive/My Drive/dataset/yoga_pose/train',\n",
        "                     test_path='/content/drive/My Drive/dataset/yoga_pose/test',\n",
        "                     test_size=0.2, random_seed=0)"
      ],
      "metadata": {
        "id": "DwBxtXGy6vsu"
      },
      "execution_count": null,
      "outputs": []
    },
    {
      "cell_type": "markdown",
      "source": [
        "# Split the training set to a train set and a validation set"
      ],
      "metadata": {
        "id": "MpzI5DoC67_A"
      }
    },
    {
      "cell_type": "code",
      "source": [
        "split_train_and_test(dataset_path='/content/drive/My Drive/dataset/yoga_pose/train',\n",
        "                     train_path='/content/drive/My Drive/dataset/yoga_pose/train/train',\n",
        "                     test_path='/content/drive/My Drive/dataset/yoga_pose/train/validation',\n",
        "                     test_size=0.2, random_seed=0)"
      ],
      "metadata": {
        "colab": {
          "base_uri": "https://localhost:8080/"
        },
        "id": "pDFbjQ3ukiIJ",
        "outputId": "bf7cd95e-b604-457b-e7ab-fd6806561519"
      },
      "execution_count": 6,
      "outputs": [
        {
          "output_type": "stream",
          "name": "stderr",
          "text": [
            "100%|██████████| 3835/3835 [28:30<00:00,  2.24it/s]\n",
            "100%|██████████| 959/959 [06:50<00:00,  2.34it/s]\n"
          ]
        }
      ]
    },
    {
      "cell_type": "code",
      "source": [
        "shutil.make_archive('/content/drive/My Drive/dataset/yoga_pose/train', 'zip', '/content/drive/My Drive/dataset/yoga_pose/train/train')"
      ],
      "metadata": {
        "colab": {
          "base_uri": "https://localhost:8080/",
          "height": 35
        },
        "id": "SOHI_kMF5FDZ",
        "outputId": "4719cb30-4c59-4672-c158-b79d5ded1bef"
      },
      "execution_count": 13,
      "outputs": [
        {
          "output_type": "execute_result",
          "data": {
            "text/plain": [
              "'/content/drive/My Drive/dataset/yoga_pose/train.zip'"
            ],
            "application/vnd.google.colaboratory.intrinsic+json": {
              "type": "string"
            }
          },
          "metadata": {},
          "execution_count": 13
        }
      ]
    },
    {
      "cell_type": "code",
      "source": [
        "shutil.make_archive('/content/drive/My Drive/dataset/yoga_pose/validation', 'zip', '/content/drive/My Drive/dataset/yoga_pose/train/train')"
      ],
      "metadata": {
        "colab": {
          "base_uri": "https://localhost:8080/",
          "height": 35
        },
        "id": "fFsD-Gau5Nxf",
        "outputId": "ebb0f63f-fa53-4bec-8094-46546885530e"
      },
      "execution_count": 14,
      "outputs": [
        {
          "output_type": "execute_result",
          "data": {
            "text/plain": [
              "'/content/drive/My Drive/dataset/yoga_pose/validation.zip'"
            ],
            "application/vnd.google.colaboratory.intrinsic+json": {
              "type": "string"
            }
          },
          "metadata": {},
          "execution_count": 14
        }
      ]
    },
    {
      "cell_type": "code",
      "source": [
        "shutil.make_archive('/content/drive/My Drive/dataset/yoga_pose/test', 'zip', '/content/drive/My Drive/dataset/yoga_pose/test')"
      ],
      "metadata": {
        "colab": {
          "base_uri": "https://localhost:8080/",
          "height": 35
        },
        "id": "QAAMb6OPlxi3",
        "outputId": "d2bd6149-cff7-47b1-df7b-1a4022992659"
      },
      "execution_count": 15,
      "outputs": [
        {
          "output_type": "execute_result",
          "data": {
            "text/plain": [
              "'/content/drive/My Drive/dataset/yoga_pose/test.zip'"
            ],
            "application/vnd.google.colaboratory.intrinsic+json": {
              "type": "string"
            }
          },
          "metadata": {},
          "execution_count": 15
        }
      ]
    }
  ],
  "metadata": {
    "colab": {
      "provenance": []
    },
    "kernelspec": {
      "display_name": "Python 3",
      "name": "python3"
    },
    "language_info": {
      "name": "python"
    }
  },
  "nbformat": 4,
  "nbformat_minor": 0
}