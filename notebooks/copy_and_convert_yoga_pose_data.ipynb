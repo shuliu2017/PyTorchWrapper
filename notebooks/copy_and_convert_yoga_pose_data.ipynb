{
  "cells": [
    {
      "cell_type": "code",
      "execution_count": 36,
      "metadata": {
        "colab": {
          "base_uri": "https://localhost:8080/"
        },
        "id": "pssq5emv1IS4",
        "outputId": "38c27dde-d012-4304-8fc1-6f31d0177731"
      },
      "outputs": [
        {
          "output_type": "stream",
          "name": "stdout",
          "text": [
            "/content\n"
          ]
        }
      ],
      "source": [
        "!pwd\n",
        "# https://www.kaggle.com/datasets/shrutisaxena/yoga-pose-image-classification-dataset"
      ]
    },
    {
      "cell_type": "code",
      "execution_count": 1,
      "metadata": {
        "colab": {
          "base_uri": "https://localhost:8080/"
        },
        "id": "N9j_GTKz1I8T",
        "outputId": "fb3f9c02-4aeb-4443-da98-3f43e8ad1af9"
      },
      "outputs": [
        {
          "output_type": "stream",
          "name": "stdout",
          "text": [
            "Mounted at /content/drive\n"
          ]
        }
      ],
      "source": [
        "from google.colab import drive\n",
        "drive.mount('/content/drive')"
      ]
    },
    {
      "cell_type": "code",
      "execution_count": 2,
      "metadata": {
        "colab": {
          "base_uri": "https://localhost:8080/"
        },
        "id": "OoujE2xa1482",
        "outputId": "c5b2434b-2f49-4b3e-d3ec-3b05cf796297"
      },
      "outputs": [
        {
          "output_type": "stream",
          "name": "stdout",
          "text": [
            "(◕‿◕✿) Downloading lyl-cnn from GitHub.\n"
          ]
        }
      ],
      "source": [
        "import os\n",
        "import sys\n",
        "\n",
        "try:\n",
        "    if not os.path.isdir('/content/lyl-cnn'):\n",
        "        raise FileNotFoundError\n",
        "except FileNotFoundError:\n",
        "    print(\"(◕‿◕✿) Downloading lyl-cnn from GitHub.\")\n",
        "    os.system(f'git clone https://github.com/shuliu2017/lyl-cnn.git')\n",
        "except Exception as e:\n",
        "    print(f\"An unexpected error occurred: {e}\")\n",
        "sys.path.append('/content/lyl-cnn/packages')"
      ]
    },
    {
      "cell_type": "code",
      "source": [
        "import shutil\n",
        "from sklearn.model_selection import train_test_split\n",
        "from tqdm import tqdm\n",
        "import cv_utils\n",
        "from PIL import Image\n",
        "import numpy as np\n",
        "\n",
        "\n",
        "# Function to check if a file is an image\n",
        "def is_image_file(filename):\n",
        "    return filename.lower().endswith(('.png', '.jpg', '.jpeg', '.bmp', '.gif', '.tiff'))\n",
        "\n"
      ],
      "metadata": {
        "id": "skBGGm8bGC1X"
      },
      "execution_count": 35,
      "outputs": []
    },
    {
      "cell_type": "code",
      "source": [
        "dataset_path = '/content/drive/My Drive/dataset/yoga_pose/original'\n",
        "train_path = '/content/drive/My Drive/dataset/yoga_pose/train'\n",
        "test_path = '/content/drive/My Drive/dataset/yoga_pose/test'"
      ],
      "metadata": {
        "id": "Q8STyhSsHVRm"
      },
      "execution_count": 15,
      "outputs": []
    },
    {
      "cell_type": "code",
      "source": [
        "classes = os.listdir(dataset_path)"
      ],
      "metadata": {
        "id": "p9KP6puhIeLV"
      },
      "execution_count": 16,
      "outputs": []
    },
    {
      "cell_type": "code",
      "source": [
        "os.makedirs(train_path, exist_ok=True)\n",
        "os.makedirs(test_path, exist_ok=True)"
      ],
      "metadata": {
        "id": "7Lhmjo4MHb8n"
      },
      "execution_count": 18,
      "outputs": []
    },
    {
      "cell_type": "code",
      "source": [
        "for class_name in classes:\n",
        "    os.makedirs(os.path.join(train_path, class_name), exist_ok=True)\n",
        "    os.makedirs(os.path.join(test_path, class_name), exist_ok=True)"
      ],
      "metadata": {
        "id": "5XdRrKfAHumX"
      },
      "execution_count": 19,
      "outputs": []
    },
    {
      "cell_type": "code",
      "source": [
        "images = []\n",
        "psedo_labels = []\n",
        "\n",
        "for class_idx, class_name in enumerate(classes):\n",
        "    class_dir = os.path.join(dataset_path, class_name)\n",
        "    for img_name in os.listdir(class_dir):\n",
        "        if is_image_file(img_name):  # Ensure only image files are included\n",
        "            images.append(os.path.join(class_dir, img_name))\n",
        "            psedo_labels.append(class_idx)\n",
        "\n",
        "test_size = 0.2\n",
        "random_seed = 0\n",
        "train_idx, test_idx = train_test_split(range(len(images)), test_size=test_size, stratify=psedo_labels, random_state=random_seed)"
      ],
      "metadata": {
        "id": "jPaYRweoJ3ji"
      },
      "execution_count": 32,
      "outputs": []
    },
    {
      "cell_type": "code",
      "source": [
        "# Function to copy and convert files\n",
        "def copy_and_convert_files(indices, psedo_labels, images, classes, destination):\n",
        "    for idx in tqdm(indices):\n",
        "        img_path = images[idx]\n",
        "        class_name = classes[psedo_labels[idx]]\n",
        "        dest_dir = os.path.join(destination, class_name)\n",
        "        png_img_path = os.path.join(dest_dir, os.path.splitext(os.path.basename(img_path))[0] + '.png')\n",
        "\n",
        "        with Image.open(img_path) as img:\n",
        "            converted_img = cv_utils.convert_to_rgba(img)\n",
        "            img.save(png_img_path, 'PNG')"
      ],
      "metadata": {
        "id": "QjdVfeyuMUJR"
      },
      "execution_count": 40,
      "outputs": []
    },
    {
      "cell_type": "code",
      "source": [
        "copy_and_convert_files(train_idx, psedo_labels, images, classes, train_path)\n",
        "copy_and_convert_files(test_idx, psedo_labels, images, classes, test_path)"
      ],
      "metadata": {
        "colab": {
          "base_uri": "https://localhost:8080/"
        },
        "id": "WVIq3u-RM25O",
        "outputId": "0117b0db-913a-4b2b-a247-e431680adead"
      },
      "execution_count": 41,
      "outputs": [
        {
          "output_type": "stream",
          "name": "stderr",
          "text": [
            "100%|██████████| 4794/4794 [32:25<00:00,  2.46it/s]\n",
            "100%|██████████| 1199/1199 [07:50<00:00,  2.55it/s]\n"
          ]
        }
      ]
    },
    {
      "cell_type": "code",
      "source": [],
      "metadata": {
        "id": "UBiDyuyXL1x1"
      },
      "execution_count": 34,
      "outputs": []
    }
  ],
  "metadata": {
    "colab": {
      "provenance": []
    },
    "kernelspec": {
      "display_name": "Python 3",
      "name": "python3"
    },
    "language_info": {
      "name": "python"
    }
  },
  "nbformat": 4,
  "nbformat_minor": 0
}